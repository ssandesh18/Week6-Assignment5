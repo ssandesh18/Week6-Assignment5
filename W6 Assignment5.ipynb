{
  "nbformat": 4,
  "nbformat_minor": 0,
  "metadata": {
    "colab": {
      "provenance": []
    },
    "kernelspec": {
      "name": "python3",
      "display_name": "Python 3"
    },
    "language_info": {
      "name": "python"
    }
  },
  "cells": [
    {
      "cell_type": "code",
      "execution_count": null,
      "metadata": {
        "id": "Vz7goRO8vhMo"
      },
      "outputs": [],
      "source": []
    },
    {
      "cell_type": "markdown",
      "source": [
        "Q1. Explain GET and POST methods.\n",
        "\n",
        "GET request is a type of HTTP request method used to request data from a specified resource. GET requests are commonly used to retrieve information from a server. They are designed for querying, searching, or fetching information without modifying any resources on the server. GET method example:\n",
        "GET /example.php?id=123&name=John\n",
        "\n",
        "POST requests are used to pass and submit data to be processed by the server. They are commonly used for creating, updating, or deleting resources, such as creating a new user account or updating some forms. POST method example:\n",
        "POST /submit-form.php\n",
        "Body: id=123&name=John"
      ],
      "metadata": {
        "id": "WK0Pluei64Vl"
      }
    },
    {
      "cell_type": "markdown",
      "source": [
        "Q2. Why is request used in Flask?\n",
        "\n",
        "The Request, in Flask, is an object that contains all the data sent from the Client to Server. This data can be recovered using the GET/POST Methods. POST is used when your application expects user input to be received by command or an HTTP request, while GET gets all the information before it even has a chance for submission. Using both methods at once gives perfect freedom but still requires complex UI patterns like AJAX calls etc, with most common applications being frameworks where multiple forms are necessary such as Slack Webhooks, MailgunMailserver, and eCommerce Commerce Framework. With Flask-Request class instead, we don’t have any need anymore since this API allows us flexible handling of many other situations\n"
      ],
      "metadata": {
        "id": "B4WCZE_57AQO"
      }
    },
    {
      "cell_type": "markdown",
      "source": [
        "Q3. Why is redirect() used in Flask\n",
        "\n",
        "A redirect is used in the Flask class to send the user to a particular URL with the status code. conversely, this status code additionally identifies the issue. When we access a website, our browser sends a request to the server, and the server replies with what is known as the HTTP status code, which is a three-digit number, The different reasons for errors are:\n",
        "\n",
        "Unauthorized access or poor request.\n",
        "Unsupported media file types.\n",
        "Overload of the backend server.\n",
        "Internal hardware/connection error."
      ],
      "metadata": {
        "id": "gliWG5qx7Vyi"
      }
    },
    {
      "cell_type": "markdown",
      "source": [
        "Q4. What are templates in Flask? Why is the render_template() function used?\n",
        "\n",
        "Templates are files that contain static data as well as placeholders for dynamic data. A template is rendered with specific data to produce a final document. Flask uses the Jinja template library to render templates. In your application, you will use templates to render HTML which will display in the user's browser.\n",
        "\n",
        "Flask’s render_template is a function that's part of the Flask web framework, and it is responsible for rendering HTML templates. In a detailed and pedantic way, render_template can be described as a function that takes one or more input arguments, including the template file's name, and any number of keyword arguments representing the variables to be passed to the template. The function then processes the template file, replacing placeholders (enclosed in double curly braces {{ ... }}) with their corresponding values, and returns the resulting HTML content as a string."
      ],
      "metadata": {
        "id": "0EWRExwe7ilM"
      }
    },
    {
      "cell_type": "markdown",
      "source": [
        "Q5. Create a simple API. Use Postman to test it. Attach the screenshot of the output in the Jupyter Notebook\n",
        "\n",
        "from flask import Flask,request ,render_template , jsonify\n",
        "\n",
        "app = Flask(__name__)\n",
        "\n",
        "\n",
        "@app.route('/')\n",
        "def home_page():\n",
        "    return render_template('index.html')\n",
        "\n",
        "@app.route('/postman',methods=['POST'])\n",
        "def math_ops1():\n",
        "    if(request.method == 'POST'):\n",
        "        ops = request.json['operation']\n",
        "        num1 = int(request.json['num1'])\n",
        "        num2 = int(request.json['num2'])\n",
        "        if ops == 'add':\n",
        "            r = num1+num2\n",
        "            result = \"The sum of \" + str(num1) + 'and ' + str(num2) + \"is \" + str(r)\n",
        "        if ops == 'subtract':\n",
        "            r = num1-num2\n",
        "            result = \"The subtract of \" + str(num1) + 'and ' + str(num2) + \"is \" + str(r)\n",
        "        if ops == 'multiply':\n",
        "            r = num1*num2\n",
        "            result = \"The multiply of \" + str(num1) + 'and ' + str(num2) + \"is \" + str(r)\n",
        "        if ops == 'divide':\n",
        "            r = num1/num2\n",
        "            result = \"The divide of \" + str(num1) + 'and ' + str(num2) + \"is \" + str(r)\n",
        "            \n",
        "        return jsonify(result)\n",
        "\n",
        "if __name__==\"__main__\":\n",
        "    app.run(host=\"0.0.0.0\")"
      ],
      "metadata": {
        "id": "XFFb0LjL8HP7"
      }
    },
    {
      "cell_type": "markdown",
      "source": [],
      "metadata": {
        "id": "3W-mfe9R9Crz"
      }
    }
  ]
}